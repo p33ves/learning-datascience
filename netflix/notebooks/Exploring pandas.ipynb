{
 "cells": [
  {
   "cell_type": "code",
   "execution_count": 3,
   "metadata": {},
   "outputs": [],
   "source": [
    "import pandas as pd\n",
    "import os"
   ]
  },
  {
   "cell_type": "code",
   "execution_count": 4,
   "metadata": {},
   "outputs": [
    {
     "name": "stdout",
     "output_type": "stream",
     "text": [
      "D:\\GitHub\\learning-datascience\\netflix\\notebooks\n"
     ]
    }
   ],
   "source": [
    "cwd = os.getcwd()\n",
    "print(cwd)"
   ]
  },
  {
   "cell_type": "code",
   "execution_count": 5,
   "metadata": {},
   "outputs": [
    {
     "name": "stdout",
     "output_type": "stream",
     "text": [
      "D:\\GitHub\\learning-datascience\\netflix\n"
     ]
    }
   ],
   "source": [
    "os.chdir(r'D:\\GitHub\\learning-datascience\\netflix')\n",
    "cwd = os.getcwd()\n",
    "print(cwd)"
   ]
  },
  {
   "cell_type": "code",
   "execution_count": 6,
   "metadata": {},
   "outputs": [
    {
     "name": "stdout",
     "output_type": "stream",
     "text": [
      "         added_date                                               cast  \\\n",
      "0     July 19, 2019  Estefanía de los Santos,Secun de la Rosa,Terel...   \n",
      "1  December 1, 2016                                                NaN   \n",
      "2      June 1, 2019  Flavia Hojda,Crina Semciuc,Olimpia Melinte,Lev...   \n",
      "3  February 5, 2020                                                NaN   \n",
      "4      May 21, 2020  Adipati Dolken,Vanesha Prescilla,Rendi Jhon,Be...   \n",
      "\n",
      "                                         description  \\\n",
      "0  When her estranged mother suddenly dies, a wom...   \n",
      "1  This documentary celebrates the 50th anniversa...   \n",
      "2  Two days before their final exams, three teen ...   \n",
      "3  This pawesome documentary explores how our fel...   \n",
      "4  Pining for his high school crush for years, a ...   \n",
      "\n",
      "                                         genre  imdb_rating   length  \\\n",
      "0                Comedies,International Movies          NaN   81 min   \n",
      "1                  Documentaries,Sports Movies          NaN   56 min   \n",
      "2         Comedies,Dramas,International Movies          NaN  125 min   \n",
      "3           Documentaries,International Movies          NaN   90 min   \n",
      "4  Dramas,International Movies,Romantic Movies          NaN  102 min   \n",
      "\n",
      "  production_country  release_year title_certification         title_name  \n",
      "0              Spain          2019               TV-MA     ¡Ay, mi madre!  \n",
      "1      United States          2016               TV-PG          #Rucker50  \n",
      "2            Romania          2014               TV-MA            #Selfie  \n",
      "3             Canada          2020               TV-14   #cats_the_mewvie  \n",
      "4          Indonesia          2018                TV-G  #FriendButMarried  \n"
     ]
    }
   ],
   "source": [
    "df = pd.read_csv(r'data\\external\\netflix_data.csv', nrows=5)\n",
    "print(df)"
   ]
  },
  {
   "cell_type": "code",
   "execution_count": 11,
   "metadata": {},
   "outputs": [],
   "source": [
    "content = pd.read_csv(r'data\\external\\netflix_data.csv', usecols=['title_name','release_year','genre'] )\n",
    "content.to_pickle(r'data\\interim\\content_genres.pickle')"
   ]
  },
  {
   "cell_type": "code",
   "execution_count": null,
   "metadata": {},
   "outputs": [],
   "source": []
  }
 ],
 "metadata": {
  "kernelspec": {
   "display_name": "Python 3",
   "language": "python",
   "name": "python3"
  },
  "language_info": {
   "codemirror_mode": {
    "name": "ipython",
    "version": 3
   },
   "file_extension": ".py",
   "mimetype": "text/x-python",
   "name": "python",
   "nbconvert_exporter": "python",
   "pygments_lexer": "ipython3",
   "version": "3.8.2"
  }
 },
 "nbformat": 4,
 "nbformat_minor": 4
}
