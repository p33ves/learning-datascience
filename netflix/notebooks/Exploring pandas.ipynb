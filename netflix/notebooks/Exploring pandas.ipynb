{
 "cells": [
  {
   "cell_type": "code",
   "execution_count": 31,
   "metadata": {},
   "outputs": [],
   "source": [
    "import pandas as pd\n",
    "import os\n",
    "from functools import reduce"
   ]
  },
  {
   "cell_type": "code",
   "execution_count": 3,
   "metadata": {},
   "outputs": [
    {
     "name": "stdout",
     "output_type": "stream",
     "text": [
      "D:\\GitHub\\learning-datascience\\netflix\\notebooks\n"
     ]
    }
   ],
   "source": [
    "cwd = os.getcwd()\n",
    "print(cwd)"
   ]
  },
  {
   "cell_type": "code",
   "execution_count": 4,
   "metadata": {},
   "outputs": [
    {
     "name": "stdout",
     "output_type": "stream",
     "text": [
      "D:\\GitHub\\learning-datascience\\netflix\n"
     ]
    }
   ],
   "source": [
    "os.chdir(r'D:\\GitHub\\learning-datascience\\netflix')\n",
    "cwd = os.getcwd()\n",
    "print(cwd)"
   ]
  },
  {
   "cell_type": "code",
   "execution_count": 5,
   "metadata": {},
   "outputs": [
    {
     "name": "stdout",
     "output_type": "stream",
     "text": [
      "         added_date                                               cast  \\\n",
      "0     July 19, 2019  Estefanía de los Santos,Secun de la Rosa,Terel...   \n",
      "1  December 1, 2016                                                NaN   \n",
      "2      June 1, 2019  Flavia Hojda,Crina Semciuc,Olimpia Melinte,Lev...   \n",
      "3  February 5, 2020                                                NaN   \n",
      "4      May 21, 2020  Adipati Dolken,Vanesha Prescilla,Rendi Jhon,Be...   \n",
      "\n",
      "                                         description  \\\n",
      "0  When her estranged mother suddenly dies, a wom...   \n",
      "1  This documentary celebrates the 50th anniversa...   \n",
      "2  Two days before their final exams, three teen ...   \n",
      "3  This pawesome documentary explores how our fel...   \n",
      "4  Pining for his high school crush for years, a ...   \n",
      "\n",
      "                                         genre  imdb_rating   length  \\\n",
      "0                Comedies,International Movies          NaN   81 min   \n",
      "1                  Documentaries,Sports Movies          NaN   56 min   \n",
      "2         Comedies,Dramas,International Movies          NaN  125 min   \n",
      "3           Documentaries,International Movies          NaN   90 min   \n",
      "4  Dramas,International Movies,Romantic Movies          NaN  102 min   \n",
      "\n",
      "  production_country  release_year title_certification         title_name  \n",
      "0              Spain          2019               TV-MA     ¡Ay, mi madre!  \n",
      "1      United States          2016               TV-PG          #Rucker50  \n",
      "2            Romania          2014               TV-MA            #Selfie  \n",
      "3             Canada          2020               TV-14   #cats_the_mewvie  \n",
      "4          Indonesia          2018                TV-G  #FriendButMarried  \n"
     ]
    }
   ],
   "source": [
    "df = pd.read_csv(r'data\\external\\netflix_data.csv', nrows=5)\n",
    "print(df)"
   ]
  },
  {
   "cell_type": "code",
   "execution_count": 6,
   "metadata": {},
   "outputs": [],
   "source": [
    "content = pd.read_csv(r'data\\external\\netflix_data.csv', usecols=['title_name','release_year','genre'] )\n",
    "content.to_pickle(r'data\\interim\\content_genres.pickle')"
   ]
  },
  {
   "cell_type": "code",
   "execution_count": 7,
   "metadata": {},
   "outputs": [
    {
     "name": "stdout",
     "output_type": "stream",
     "text": [
      "                                         genre  release_year  \\\n",
      "0                Comedies,International Movies          2019   \n",
      "1                  Documentaries,Sports Movies          2016   \n",
      "2         Comedies,Dramas,International Movies          2014   \n",
      "3           Documentaries,International Movies          2020   \n",
      "4  Dramas,International Movies,Romantic Movies          2018   \n",
      "5                                     Comedies          2017   \n",
      "6           Documentaries,International Movies          2019   \n",
      "7                                Sports Movies          2017   \n",
      "8         Comedies,Dramas,International Movies          2016   \n",
      "9  Dramas,International Movies,Romantic Movies          2020   \n",
      "\n",
      "                      title_name  \n",
      "0                 ¡Ay, mi madre!  \n",
      "1                      #Rucker50  \n",
      "2                        #Selfie  \n",
      "3               #cats_the_mewvie  \n",
      "4              #FriendButMarried  \n",
      "5                   #realityhigh  \n",
      "6  #AnneFrank - Parallel Stories  \n",
      "7                            '89  \n",
      "8                     #Selfie 69  \n",
      "9            #FriendButMarried 2  \n"
     ]
    }
   ],
   "source": [
    "sample = pd.read_csv(r'data\\external\\netflix_data.csv', nrows=10, usecols=['title_name','release_year','genre'] )\n",
    "print(sample)"
   ]
  },
  {
   "cell_type": "code",
   "execution_count": 27,
   "metadata": {},
   "outputs": [
    {
     "name": "stdout",
     "output_type": "stream",
     "text": [
      "{'_is_copy': None, '_mgr': BlockManager\n",
      "Items: Index(['genre', 'release_year', 'title_name'], dtype='object')\n",
      "Axis 1: RangeIndex(start=0, stop=5894, step=1)\n",
      "IntBlock: slice(1, 2, 1), 1 x 5894, dtype: int64\n",
      "ObjectBlock: slice(0, 4, 2), 2 x 5894, dtype: object, '_item_cache': {'genre': 0                           Comedies,International Movies\n",
      "1                             Documentaries,Sports Movies\n",
      "2                    Comedies,Dramas,International Movies\n",
      "3                      Documentaries,International Movies\n",
      "4             Dramas,International Movies,Romantic Movies\n",
      "                              ...                        \n",
      "5889                     International TV Shows,TV Dramas\n",
      "5890    International TV Shows,Romantic TV Shows,TV Co...\n",
      "5891                     International TV Shows,TV Dramas\n",
      "5892                Dramas,International Movies,Thrillers\n",
      "5893                             Children & Family Movies\n",
      "Name: genre, Length: 5894, dtype: object, 'release_year': 0       2019\n",
      "1       2016\n",
      "2       2014\n",
      "3       2020\n",
      "4       2018\n",
      "        ... \n",
      "5889    2019\n",
      "5890    2016\n",
      "5891    2016\n",
      "5892    2017\n",
      "5893    2018\n",
      "Name: release_year, Length: 5894, dtype: int64, 'title_name': 0            ¡Ay, mi madre!\n",
      "1                 #Rucker50\n",
      "2                   #Selfie\n",
      "3          #cats_the_mewvie\n",
      "4         #FriendButMarried\n",
      "               ...         \n",
      "5889           دفعة القاهرة\n",
      "5890    แผนร้ายนายเจ้าเล่ห์\n",
      "5891                   海的儿子\n",
      "5892                반드시 잡는다\n",
      "5893    최강전사 미니특공대 : 영웅의 탄생\n",
      "Name: title_name, Length: 5894, dtype: object}, '_attrs': {}}\n"
     ]
    }
   ],
   "source": [
    "print(vars(content))"
   ]
  },
  {
   "cell_type": "code",
   "execution_count": 28,
   "metadata": {},
   "outputs": [
    {
     "ename": "AttributeError",
     "evalue": "'DataFrame' object has no attribute 'rows'",
     "output_type": "error",
     "traceback": [
      "\u001b[1;31m---------------------------------------------------------------------------\u001b[0m",
      "\u001b[1;31mAttributeError\u001b[0m                            Traceback (most recent call last)",
      "\u001b[1;32m<ipython-input-28-3f761634171c>\u001b[0m in \u001b[0;36m<module>\u001b[1;34m\u001b[0m\n\u001b[0;32m      1\u001b[0m \u001b[0mcontent_groups\u001b[0m \u001b[1;33m=\u001b[0m \u001b[0mdict\u001b[0m\u001b[1;33m(\u001b[0m\u001b[1;33m)\u001b[0m\u001b[1;33m\u001b[0m\u001b[1;33m\u001b[0m\u001b[0m\n\u001b[1;32m----> 2\u001b[1;33m \u001b[1;32mfor\u001b[0m \u001b[0mlisting\u001b[0m \u001b[1;32min\u001b[0m \u001b[0mcontent\u001b[0m\u001b[1;33m.\u001b[0m\u001b[0mrows\u001b[0m\u001b[1;33m(\u001b[0m\u001b[1;33m)\u001b[0m\u001b[1;33m:\u001b[0m\u001b[1;33m\u001b[0m\u001b[1;33m\u001b[0m\u001b[0m\n\u001b[0m\u001b[0;32m      3\u001b[0m     \u001b[0mlisting_id\u001b[0m \u001b[1;33m=\u001b[0m \u001b[1;33m(\u001b[0m\u001b[0mlisting\u001b[0m\u001b[1;33m[\u001b[0m\u001b[1;34m'title_name'\u001b[0m\u001b[1;33m]\u001b[0m\u001b[1;33m,\u001b[0m \u001b[0mlisting\u001b[0m\u001b[1;33m[\u001b[0m\u001b[1;34m'release_year'\u001b[0m\u001b[1;33m]\u001b[0m\u001b[1;33m)\u001b[0m\u001b[1;33m\u001b[0m\u001b[1;33m\u001b[0m\u001b[0m\n\u001b[0;32m      4\u001b[0m     \u001b[0mgenres\u001b[0m \u001b[1;33m=\u001b[0m \u001b[0mlisting\u001b[0m\u001b[1;33m[\u001b[0m\u001b[1;34m'genre'\u001b[0m\u001b[1;33m]\u001b[0m\u001b[1;33m.\u001b[0m\u001b[0msplit\u001b[0m\u001b[1;33m(\u001b[0m\u001b[1;34m','\u001b[0m\u001b[1;33m)\u001b[0m\u001b[1;33m\u001b[0m\u001b[1;33m\u001b[0m\u001b[0m\n\u001b[0;32m      5\u001b[0m     \u001b[1;32mfor\u001b[0m \u001b[0mg\u001b[0m \u001b[1;32min\u001b[0m \u001b[0mgenres\u001b[0m\u001b[1;33m:\u001b[0m\u001b[1;33m\u001b[0m\u001b[1;33m\u001b[0m\u001b[0m\n",
      "\u001b[1;32md:\\github\\learning-datascience\\project_env\\lib\\site-packages\\pandas\\core\\generic.py\u001b[0m in \u001b[0;36m__getattr__\u001b[1;34m(self, name)\u001b[0m\n\u001b[0;32m   5128\u001b[0m             \u001b[1;32mif\u001b[0m \u001b[0mself\u001b[0m\u001b[1;33m.\u001b[0m\u001b[0m_info_axis\u001b[0m\u001b[1;33m.\u001b[0m\u001b[0m_can_hold_identifiers_and_holds_name\u001b[0m\u001b[1;33m(\u001b[0m\u001b[0mname\u001b[0m\u001b[1;33m)\u001b[0m\u001b[1;33m:\u001b[0m\u001b[1;33m\u001b[0m\u001b[1;33m\u001b[0m\u001b[0m\n\u001b[0;32m   5129\u001b[0m                 \u001b[1;32mreturn\u001b[0m \u001b[0mself\u001b[0m\u001b[1;33m[\u001b[0m\u001b[0mname\u001b[0m\u001b[1;33m]\u001b[0m\u001b[1;33m\u001b[0m\u001b[1;33m\u001b[0m\u001b[0m\n\u001b[1;32m-> 5130\u001b[1;33m             \u001b[1;32mreturn\u001b[0m \u001b[0mobject\u001b[0m\u001b[1;33m.\u001b[0m\u001b[0m__getattribute__\u001b[0m\u001b[1;33m(\u001b[0m\u001b[0mself\u001b[0m\u001b[1;33m,\u001b[0m \u001b[0mname\u001b[0m\u001b[1;33m)\u001b[0m\u001b[1;33m\u001b[0m\u001b[1;33m\u001b[0m\u001b[0m\n\u001b[0m\u001b[0;32m   5131\u001b[0m \u001b[1;33m\u001b[0m\u001b[0m\n\u001b[0;32m   5132\u001b[0m     \u001b[1;32mdef\u001b[0m \u001b[0m__setattr__\u001b[0m\u001b[1;33m(\u001b[0m\u001b[0mself\u001b[0m\u001b[1;33m,\u001b[0m \u001b[0mname\u001b[0m\u001b[1;33m:\u001b[0m \u001b[0mstr\u001b[0m\u001b[1;33m,\u001b[0m \u001b[0mvalue\u001b[0m\u001b[1;33m)\u001b[0m \u001b[1;33m->\u001b[0m \u001b[1;32mNone\u001b[0m\u001b[1;33m:\u001b[0m\u001b[1;33m\u001b[0m\u001b[1;33m\u001b[0m\u001b[0m\n",
      "\u001b[1;31mAttributeError\u001b[0m: 'DataFrame' object has no attribute 'rows'"
     ]
    }
   ],
   "source": [
    "content_groups = dict()\n",
    "for listing in content.rows():\n",
    "    listing_id = (listing['title_name'], listing['release_year'])\n",
    "    genres = listing['genre'].split(',')\n",
    "    for g in genres:\n",
    "        if g not in content_groups.keys():\n",
    "            content_groups.add(g, list())\n",
    "        content_groups[g].append(listing_id)"
   ]
  },
  {
   "cell_type": "code",
   "execution_count": 26,
   "metadata": {},
   "outputs": [
    {
     "name": "stdout",
     "output_type": "stream",
     "text": [
      "<class 'tuple'>\n"
     ]
    }
   ],
   "source": [
    "for listing in content.items():\n",
    "    print(type(listing))\n",
    "    break"
   ]
  },
  {
   "cell_type": "code",
   "execution_count": 32,
   "metadata": {},
   "outputs": [
    {
     "ename": "TypeError",
     "evalue": "<lambda>() takes 1 positional argument but 2 were given",
     "output_type": "error",
     "traceback": [
      "\u001b[1;31m---------------------------------------------------------------------------\u001b[0m",
      "\u001b[1;31mTypeError\u001b[0m                                 Traceback (most recent call last)",
      "\u001b[1;32m<ipython-input-32-c02106cb5587>\u001b[0m in \u001b[0;36m<module>\u001b[1;34m\u001b[0m\n\u001b[1;32m----> 1\u001b[1;33m \u001b[0mgs\u001b[0m \u001b[1;33m=\u001b[0m \u001b[0mset\u001b[0m\u001b[1;33m(\u001b[0m\u001b[0mreduce\u001b[0m\u001b[1;33m(\u001b[0m\u001b[1;33m(\u001b[0m\u001b[1;32mlambda\u001b[0m \u001b[0mx\u001b[0m\u001b[1;33m:\u001b[0m \u001b[0mx\u001b[0m\u001b[1;33m.\u001b[0m\u001b[0msplit\u001b[0m\u001b[1;33m(\u001b[0m\u001b[1;34m','\u001b[0m\u001b[1;33m)\u001b[0m\u001b[1;33m)\u001b[0m\u001b[1;33m,\u001b[0m \u001b[0mcontent\u001b[0m\u001b[1;33m[\u001b[0m\u001b[1;34m'genre'\u001b[0m\u001b[1;33m]\u001b[0m\u001b[1;33m)\u001b[0m\u001b[1;33m)\u001b[0m\u001b[1;33m\u001b[0m\u001b[1;33m\u001b[0m\u001b[0m\n\u001b[0m\u001b[0;32m      2\u001b[0m \u001b[0mprint\u001b[0m\u001b[1;33m(\u001b[0m\u001b[0mgs\u001b[0m\u001b[1;33m)\u001b[0m\u001b[1;33m\u001b[0m\u001b[1;33m\u001b[0m\u001b[0m\n",
      "\u001b[1;31mTypeError\u001b[0m: <lambda>() takes 1 positional argument but 2 were given"
     ]
    }
   ],
   "source": [
    "gs = set(reduce((lambda x: x.split(',')), content['genre']))\n",
    "print(gs)"
   ]
  },
  {
   "cell_type": "code",
   "execution_count": null,
   "metadata": {},
   "outputs": [],
   "source": []
  }
 ],
 "metadata": {
  "kernelspec": {
   "display_name": "Python 3",
   "language": "python",
   "name": "python3"
  },
  "language_info": {
   "codemirror_mode": {
    "name": "ipython",
    "version": 3
   },
   "file_extension": ".py",
   "mimetype": "text/x-python",
   "name": "python",
   "nbconvert_exporter": "python",
   "pygments_lexer": "ipython3",
   "version": "3.8.2"
  }
 },
 "nbformat": 4,
 "nbformat_minor": 4
}
