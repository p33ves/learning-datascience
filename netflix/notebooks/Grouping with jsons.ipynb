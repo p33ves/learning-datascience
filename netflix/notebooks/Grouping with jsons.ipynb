{
 "cells": [
  {
   "cell_type": "code",
   "execution_count": 1,
   "metadata": {},
   "outputs": [],
   "source": [
    "import json\n",
    "import pandas as pd\n",
    "import os"
   ]
  },
  {
   "cell_type": "code",
   "execution_count": 2,
   "metadata": {},
   "outputs": [],
   "source": [
    "os.chdir(r'D:\\GitHub\\learning-datascience\\netflix')\n",
    "f = open(r'data\\external\\netflix_data.json', 'r')\n",
    "titles = json.loads(f.read())"
   ]
  },
  {
   "cell_type": "code",
   "execution_count": 3,
   "metadata": {},
   "outputs": [],
   "source": [
    "genres = dict()\n",
    "for title in titles:\n",
    "    title_id = (title['title_name'], title['release_year'])\n",
    "    for genre in title['genre']:\n",
    "        if genre not in genres.keys():\n",
    "            genres[genre] = list()\n",
    "        genres[genre].append(title_id)"
   ]
  },
  {
   "cell_type": "code",
   "execution_count": 4,
   "metadata": {},
   "outputs": [],
   "source": [
    "with open(r'data\\processed\\netflix_genre_grouping.json', 'w') as f:\n",
    "         json.dump(genres, f)"
   ]
  },
  {
   "cell_type": "code",
   "execution_count": 5,
   "metadata": {},
   "outputs": [
    {
     "name": "stdout",
     "output_type": "stream",
     "text": [
      "Comedies : 1087 entries\n",
      "International Movies : 1916 entries\n",
      "Documentaries : 523 entries\n",
      "Sports Movies : 136 entries\n",
      "Dramas : 1551 entries\n",
      "TV Comedies : 441 entries\n",
      "Romantic Movies : 385 entries\n",
      "Docuseries : 230 entries\n",
      "Science & Nature TV : 45 entries\n",
      "Movies : 47 entries\n",
      "British TV Shows : 156 entries\n",
      "International TV Shows : 1023 entries\n",
      "Reality TV : 166 entries\n",
      "Independent Movies : 491 entries\n",
      "Horror Movies : 232 entries\n",
      "Thrillers : 351 entries\n",
      "Crime TV Shows : 366 entries\n",
      "TV Dramas : 611 entries\n",
      "TV Mysteries : 78 entries\n",
      "Action & Adventure : 515 entries\n",
      "Music & Musicals : 230 entries\n",
      "Sci-Fi & Fantasy : 149 entries\n",
      "Korean TV Shows : 136 entries\n",
      "Romantic TV Shows : 278 entries\n",
      "LGBTQ Movies : 56 entries\n",
      "Faith & Spirituality : 35 entries\n",
      "TV Sci-Fi & Fantasy : 62 entries\n",
      "Kids' TV : 347 entries\n",
      "TV Action & Adventure : 130 entries\n",
      "Spanish-Language TV Shows : 107 entries\n",
      "Children & Family Movies : 367 entries\n",
      "Anime Series : 129 entries\n",
      "Classic Movies : 63 entries\n",
      "TV Horror : 60 entries\n",
      "Stand-Up Comedy & Talk Shows : 48 entries\n",
      "Teen TV Shows : 52 entries\n",
      "Stand-Up Comedy : 304 entries\n",
      "Anime Features : 54 entries\n",
      "Cult Movies : 43 entries\n",
      "TV Thrillers : 43 entries\n",
      "Classic & Cult TV : 19 entries\n",
      "TV Shows : 6 entries\n"
     ]
    }
   ],
   "source": [
    "genre_df = dict()\n",
    "for key, val in genres.items():\n",
    "    genre_df[key] = pd.DataFrame.from_records(genres[key],columns=[\"Title\",\"Release Year\"])\n",
    "    r, c = genre_df[key].shape\n",
    "    print(f\"{key} : {r} entries\")"
   ]
  },
  {
   "cell_type": "code",
   "execution_count": 6,
   "metadata": {},
   "outputs": [
    {
     "name": "stdout",
     "output_type": "stream",
     "text": [
      "42\n"
     ]
    }
   ],
   "source": [
    "print(len(genre_df))"
   ]
  },
  {
   "cell_type": "code",
   "execution_count": null,
   "metadata": {},
   "outputs": [],
   "source": []
  }
 ],
 "metadata": {
  "kernelspec": {
   "display_name": "Python 3",
   "language": "python",
   "name": "python3"
  },
  "language_info": {
   "codemirror_mode": {
    "name": "ipython",
    "version": 3
   },
   "file_extension": ".py",
   "mimetype": "text/x-python",
   "name": "python",
   "nbconvert_exporter": "python",
   "pygments_lexer": "ipython3",
   "version": "3.8.2"
  }
 },
 "nbformat": 4,
 "nbformat_minor": 4
}
